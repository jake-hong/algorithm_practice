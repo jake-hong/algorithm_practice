{
 "cells": [
  {
   "cell_type": "code",
   "execution_count": 1,
   "id": "a59682ec",
   "metadata": {},
   "outputs": [
    {
     "name": "stdout",
     "output_type": "stream",
     "text": [
      "K1KA57K\n"
     ]
    }
   ],
   "source": [
    "n = input().split()"
   ]
  },
  {
   "cell_type": "code",
   "execution_count": 2,
   "id": "990d7b11",
   "metadata": {},
   "outputs": [
    {
     "data": {
      "text/plain": [
       "['K1KA57K']"
      ]
     },
     "execution_count": 2,
     "metadata": {},
     "output_type": "execute_result"
    }
   ],
   "source": [
    "n"
   ]
  },
  {
   "cell_type": "code",
   "execution_count": 48,
   "id": "987c9444",
   "metadata": {},
   "outputs": [
    {
     "name": "stdout",
     "output_type": "stream",
     "text": [
      "A13\n",
      "K13\n",
      "K13\n",
      "K13\n"
     ]
    }
   ],
   "source": [
    "alphabet = []\n",
    "integer = [] \n",
    "for i in n : \n",
    "    for s in i :\n",
    "        if s in ['1','2','3','4','5','6','7','8','9']:\n",
    "            s = int(s)\n",
    "            integer.append(s)\n",
    "        else:\n",
    "            alphabet.append(s)\n",
    "              \n",
    "alphabet = sorted(alphabet)\n",
    "int_sum = sum(integer)\n",
    "\n",
    "for i in alphabet:\n",
    "    print(i,end = '')\n",
    "print(int_sum) \n"
   ]
  },
  {
   "cell_type": "code",
   "execution_count": null,
   "id": "75bc93a0",
   "metadata": {},
   "outputs": [],
   "source": []
  }
 ],
 "metadata": {
  "kernelspec": {
   "display_name": "Python 3 (ipykernel)",
   "language": "python",
   "name": "python3"
  },
  "language_info": {
   "codemirror_mode": {
    "name": "ipython",
    "version": 3
   },
   "file_extension": ".py",
   "mimetype": "text/x-python",
   "name": "python",
   "nbconvert_exporter": "python",
   "pygments_lexer": "ipython3",
   "version": "3.9.5"
  }
 },
 "nbformat": 4,
 "nbformat_minor": 5
}
